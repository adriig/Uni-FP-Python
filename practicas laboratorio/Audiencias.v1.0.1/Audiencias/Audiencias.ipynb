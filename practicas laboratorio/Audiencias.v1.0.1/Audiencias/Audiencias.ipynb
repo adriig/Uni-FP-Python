{
 "cells": [
  {
   "cell_type": "markdown",
   "metadata": {},
   "source": [
    "# Ejercicio: Análisis de audiencias televisivas\n",
    "**Autor**: José A. Troyano.   **Revisores**: Mariano González, Carlos G. Vallejo, José C. Riquelme, Beatriz Pontes, Toñi Reina.   **Última modificación:** 26/09/2022"
   ]
  },
  {
   "cell_type": "markdown",
   "metadata": {},
   "source": [
    "En este notebook se proporcionan soluciones a la mayoría de las funciones propuestas. \n",
    "\n",
    "Trabajaremos con datos de audiencias televisivas, en concreto con los datos de audiencia de diferentes ediciones de varios programas como _MasterChef_, _MasterChef Celebrity_ o _Gran Hermano_. Como resultado del proyecto, obtendremos una serie de indicadores y gráficas que nos permitirán analizar la evolución de la audiencia de un programa televisivo a lo largo del tiempo.\n",
    "\n",
    "Para analizar los datos de audiencias partiremos de archivos en formato csv (valores separados por coma), en los que tenemos almacenada la información de las audiencias del programa concreto a analizar. Estos archivos csv estarán compuestos por distintas líneas con dos datos separados por comas: la edición a la que pertence el dato de audiencia, y el porcentaje de audiencia (en tanto por uno) obtenido en la emisión concreta (o _share_). Además, los datos aparecerán ordenados por número de emisión. Por ejemplo, si analizamos las 5 primeras líneas del fichero <code>MasterChef.csv</code>, que contiene los datos siguientes:\n",
    "\n",
    "<pre>\n",
    "1, .11\n",
    "1, .1\n",
    "1, .155\n",
    "1, .186\n",
    "1, .155\n",
    "</pre>\n",
    "\n",
    "podemos deducir que el primer programa de la primera edición de _MasterChef_ tuvo un _share_ del 11%, el segundo el 10%, el tercero el 15.5%, y así sucesivamente. \n",
    "\n",
    "Este notebook nos servirá para ilustrar, sobre un proyecto sencillo, los pasos más comunes de la mayor parte de los ejercicios que haremos a lo largo del curso, ya que para explotar estos datos, estructuraremos nuestro programa en varios tipos de funciones que tendrán una responsabilidad única:\n",
    "\n",
    "### Funciones de carga de datos. \n",
    "\n",
    "Lo primero que tenemos que hacer, si queremos hacer operaciones con los datos almacenados en el archivo, es cargar los datos en la memoria del ordenador. Además, debe tenerse en cuenta que, cuando leemos los datos de un fichero, siempre se leen en formato cadena. La responsabilidad, por tanto, de las funciones de este grupo, será cargar los datos, y hacer las conversiones de tipos necesarias para poder operar con los datos de manera adecuada.\n",
    "\n",
    "### Funciones de transformación y filtrado.\n",
    "\n",
    "Una vez tenemos los datos cargados y con los tipos adecuados, tendremos que operar con ellos. Las funciones de este bloque se encargan de realizar las operaciones correspondientes. Cada función tiene una responsabilidad y devuelve un valor. Las funciones de este grupo NO muestran los resultados por la consola con print, ya que su responsabilidad es hacer el cálculo o la operación correspondiente, pero no mostrarle al usuario el resultado.\n",
    "\n",
    "### Funciones de visualización.\n",
    "\n",
    "Una vez que hemos hecho las operaciones o cálculos, las funciones de este grupo se encargan de mostrar los resultados, que podrán ser textuales o gráficos. Para mostrar los resultados usaremos tanto módulos de la librería estándar, como paquetes externos, como por ejemplo <code>matplotlib</code> para la generación de gráficas. \n",
    "\n",
    "Estas son las correspondientes instrucciones de importación:"
   ]
  },
  {
   "cell_type": "code",
   "execution_count": 1,
   "metadata": {},
   "outputs": [
    {
     "ename": "ModuleNotFoundError",
     "evalue": "No module named 'matplotlib'",
     "output_type": "error",
     "traceback": [
      "\u001b[1;31m---------------------------------------------------------------------------\u001b[0m",
      "\u001b[1;31mModuleNotFoundError\u001b[0m                       Traceback (most recent call last)",
      "Cell \u001b[1;32mIn [1], line 3\u001b[0m\n\u001b[0;32m      1\u001b[0m \u001b[38;5;28;01mimport\u001b[39;00m \u001b[38;5;21;01mcsv\u001b[39;00m\n\u001b[0;32m      2\u001b[0m \u001b[38;5;28;01mimport\u001b[39;00m \u001b[38;5;21;01mstatistics\u001b[39;00m\n\u001b[1;32m----> 3\u001b[0m \u001b[38;5;28;01mfrom\u001b[39;00m \u001b[38;5;21;01mmatplotlib\u001b[39;00m \u001b[38;5;28;01mimport\u001b[39;00m pyplot \u001b[38;5;28;01mas\u001b[39;00m plt\n",
      "\u001b[1;31mModuleNotFoundError\u001b[0m: No module named 'matplotlib'"
     ]
    }
   ],
   "source": [
    "import csv\n",
    "import statistics\n",
    "from matplotlib import pyplot as plt"
   ]
  },
  {
   "cell_type": "markdown",
   "metadata": {},
   "source": [
    "## 1. Carga de datos"
   ]
  },
  {
   "cell_type": "markdown",
   "metadata": {},
   "source": [
    "Tomaremos los datos de un fichero de entrada llamado <code>GH.csv</code>, en el que se encuentran las audiencias de las distintas ediciones del programa televisivo \"Gran Hermano\" desde la primera edición hasta la número 17.\n",
    "\n",
    "Cada línea del fichero de entrada se corresponde con la audiencia de un\n",
    "programa, y contiene dos informaciones: \n",
    "- La edición a la que pertenece el programa\n",
    "- El _share_ (porcentaje de la audiencia que vio ese programa concreto) \n",
    "\n",
    "No hay información de fecha, pero las líneas del fichero mantienen el orden cronológico en el que fueron emitidos los correspondientes programas. Estas son las primeras líneas del fichero de entrada:\n",
    "\n",
    "<pre>\n",
    "    1,0.37\n",
    "    1,0.33\n",
    "    1,0.47\n",
    "    1,0.46\n",
    "    1,0.54\n",
    "    1,0.43\n",
    "    1,0.59\n",
    "    1,0.58\n",
    "</pre>\n",
    "\n",
    "La primera función que implementaremos será la de lectura. Será la encargada de leer los datos del fichero de entrada y cargarlos en una estructura en memoria. La estructura más apropiada para los datos será una _lista de tuplas_. Una lista porque tenemos como entrada una secuencia de audiencias, y _de tuplas_ porque cada audiencia tiene dos informaciones (edición y _share_).\n",
    "\n",
    "Las siguientes celdas contienen la implementación y el test, respectivamente, de la función de lectura:"
   ]
  },
  {
   "cell_type": "code",
   "execution_count": 2,
   "metadata": {},
   "outputs": [],
   "source": [
    "def lee_audiencias(fichero):\n",
    "    ''' Lee el fichero de entrada y devuelve una lista de audiencias\n",
    "    \n",
    "    ENTRADA: \n",
    "       - fichero: nombre del fichero -> str\n",
    "    SALIDA: \n",
    "       - lista de audiencias -> [(int, float)] \n",
    "\n",
    "    Cada línea del fichero se corresponde con la audiencia de un programa,\n",
    "    y se representa con una tupla con los siguientes valores:\n",
    "        - edición\n",
    "        - audiencia\n",
    "    Hay que transformar la entrada (cadenas de caracteres) en valores numéricos\n",
    "    para que puedan ser procesados posteriormente.\n",
    "    '''\n",
    "    audiencias = []\n",
    "    with open(fichero, encoding='utf-8') as f:\n",
    "        for linea in f:\n",
    "            # Separamos la línea en dos usando ',' como delimitador\n",
    "            edicion, share = linea.split(',')\n",
    "            # Transformamos los valores str a int y float\n",
    "            edicion = int(edicion)\n",
    "            share = float(share)\n",
    "            # Creamos una tupla\n",
    "            tupla = (edicion, share)\n",
    "            # Añadimos la tupla a la lista\n",
    "            audiencias.append(tupla)\n",
    "    return audiencias"
   ]
  },
  {
   "cell_type": "code",
   "execution_count": 14,
   "metadata": {},
   "outputs": [
    {
     "name": "stdout",
     "output_type": "stream",
     "text": [
      "Audiencias del programa Gran Hermano:\n",
      "[(1, 0.37), (1, 0.33), (1, 0.47), (1, 0.46), (1, 0.54), (1, 0.43), (1, 0.59), (1, 0.58), (1, 0.57), (1, 0.49), (1, 0.48), (1, 0.54), (1, 0.55), (1, 0.52), (1, 0.56), (1, 0.71), (2, 0.36), (2, 0.32), (2, 0.37), (2, 0.41)]\n",
      "\n",
      "Audiencias del programa MasterChef:\n",
      "[(1, 0.11), (1, 0.1), (1, 0.155), (1, 0.186), (1, 0.155), (1, 0.153), (1, 0.177), (1, 0.189), (1, 0.195), (1, 0.216), (1, 0.2), (1, 0.224), (1, 0.331), (2, 0.165), (2, 0.163), (2, 0.164), (2, 0.178), (2, 0.133), (2, 0.176), (2, 0.187)]\n"
     ]
    }
   ],
   "source": [
    "# Test de la función lee_audiencias\n",
    "audiencias_gh = lee_audiencias('./data/GH.csv')\n",
    "print(\"Audiencias del programa Gran Hermano:\")\n",
    "print(audiencias_gh[:20])\n",
    "\n",
    "audiencias_masterchef = lee_audiencias('./data/MasterChef.csv')\n",
    "print(\"\\nAudiencias del programa MasterChef:\")\n",
    "print(audiencias_masterchef[:20])"
   ]
  },
  {
   "cell_type": "markdown",
   "metadata": {},
   "source": [
    "En la siguiente celda hay otra implementación, bastante más simple, de la función <code>lee_audiencias</code> que hace uso del módulo <code>csv</code> de la librería estándar de Python y de las listas por comprensión: "
   ]
  },
  {
   "cell_type": "code",
   "execution_count": 15,
   "metadata": {},
   "outputs": [],
   "source": [
    "def lee_audiencias(fichero):\n",
    "    ''' Lee el fichero de entrada y devuelve una lista de audiencias\n",
    "    \n",
    "    ENTRADA: \n",
    "       @param fichero: nombre del fichero\n",
    "       @type fichero:  str\n",
    "    SALIDA: \n",
    "       @return: lista de audiencias\n",
    "       @rtype: [(int, float)] \n",
    "\n",
    "    Cada línea del fichero se corresponde con la audiencia de un programa,\n",
    "    y se representa con una tupla con los siguientes valores:\n",
    "        - edición\n",
    "        - audiencia\n",
    "    Hay que transformar la entrada (cadenas de caracteres) en valores numéricos\n",
    "    para que puedan ser procesados posteriormente.\n",
    "    '''\n",
    "    with open(fichero, encoding='utf-8') as f:\n",
    "        # Se crea un objeto lector (un iterator) que separará los valores por comas \n",
    "        lector = csv.reader(f)\n",
    "        # Lista por comprensión sobre el objeto lector\n",
    "        audiencias = [(int(edicion), float(share)) for edicion, share in lector]\n",
    "    return audiencias"
   ]
  },
  {
   "cell_type": "markdown",
   "metadata": {
    "collapsed": true
   },
   "source": [
    "## 2. Funciones de transformación y filtrado"
   ]
  },
  {
   "cell_type": "markdown",
   "metadata": {},
   "source": [
    "Una vez que hemos cargado los datos en una estructura en memoria, ya podemos comenzar a trabajar con ellos. Lo haremos con funciones que denominaremos de _transformación_ y _filtrado_. Con estas funciones podremos obtener información derivada de los datos originales _en crudo_, extraer un subconjunto de los datos en base a una _consulta_, y también podremos transformar los datos originales para obtener nuevas estructuras de datos que nos sirvan para resolver los problemas que nos plantee cada proyecto.\n",
    "\n",
    "En este bloque queremos responder a tres preguntas distintas:\n",
    "1. ¿Cuántas ediciones tiene el programa del que queremos analizar la audiencia?\n",
    "2. ¿Qué audiencias han tenido todas las emisiones del programa de una edición concreta?\n",
    "3. ¿Cuál es la media de _share_ en cada una de las ediciones?\n",
    "\n",
    "Para responder a la primera pregunta, vamos a diseñar e implementar una función <code>calcula_ediciones</code>, que recibe como entrada la lista de tuplas, y devuelve un entero que representa el número de ediciones del programa. Las siguientes celdas contienen la implementación y el test, respectivamente, de esta función:"
   ]
  },
  {
   "cell_type": "code",
   "execution_count": 16,
   "metadata": {},
   "outputs": [],
   "source": [
    "def calcula_ediciones(audiencias):\n",
    "    ''' Calcula el conjunto de ediciones presentes en una lista de audiencias\n",
    "    \n",
    "    ENTRADA: \n",
    "       @param audiencias: lista de tuplas de audiencias\n",
    "       @type audiencias: [(int, float)]\n",
    "    SALIDA: \n",
    "       @return: El número de ediciones del programa\n",
    "       @rtype: int \n",
    "\n",
    "    Toma como entrada una lista de tuplas (edición, share) y produce como\n",
    "    salida el número de ediciones del programa\n",
    "    '''\n",
    "    # Calculamos el conjunto de ediciones presentes\n",
    "    ediciones = {e for e, _ in audiencias}\n",
    "    # Devolvemos el tamaño del conjunto\n",
    "    return len(ediciones)"
   ]
  },
  {
   "cell_type": "code",
   "execution_count": 17,
   "metadata": {},
   "outputs": [
    {
     "name": "stdout",
     "output_type": "stream",
     "text": [
      "Número de ediciones del programa Gran Hermano: 17\n",
      "Número de ediciones del programa MasterChef: 10\n"
     ]
    }
   ],
   "source": [
    "# Test de la función calcula_ediciones\n",
    "ediciones_gh = calcula_ediciones(audiencias_gh)\n",
    "print(\"Número de ediciones del programa Gran Hermano:\", ediciones_gh)\n",
    "\n",
    "ediciones_masterchef = calcula_ediciones(audiencias_masterchef)\n",
    "print(\"Número de ediciones del programa MasterChef:\", ediciones_masterchef)"
   ]
  },
  {
   "cell_type": "markdown",
   "metadata": {},
   "source": [
    "Para responder a la segunda pregunta, vamos a diseñar e implementar una función que será _de filtrado_. Este tipo de funciones recuperan un subconjunto de los datos de entrada que cumplen una determinada condición. En concreto, implementaremos la función <code>filtra_por_ediciones</code>, que recupera solo aquellos registros de audiencia en los que la edición es una de las que se reciben como parámetro. Las siguientes celdas contienen la implementación y el test, respectivamente, de esta función:"
   ]
  },
  {
   "cell_type": "code",
   "execution_count": 18,
   "metadata": {},
   "outputs": [],
   "source": [
    "def filtra_por_ediciones(audiencias, ediciones):\n",
    "    ''' Selecciona las tuplas correspondientes a unas determinadas ediciones\n",
    "    \n",
    "    ENTRADA: \n",
    "       @param audiencias: lista de audiencias \n",
    "       @type audiencias: [(int, float)]\n",
    "       @param ediciones: lista de ediciones a seleccionar \n",
    "       @type ediciones: [int]\n",
    "    SALIDA:\n",
    "       @return: lista de tuplas de audiencias seleccionadas\n",
    "       @rtype:  [(int, float)]\n",
    "\n",
    "    Toma como entrada una lista de tuplas (edición, share) y un conjunto de \n",
    "    ediciones. Produce como salida otra lista de tuplas en la que solo se\n",
    "    incluyen aquellas cuya edición sea una de las que se reciben como parámetro.\n",
    "    '''\n",
    "    filtradas = [(e, s) for e, s in audiencias if e in ediciones]\n",
    "    return filtradas"
   ]
  },
  {
   "cell_type": "code",
   "execution_count": 19,
   "metadata": {},
   "outputs": [
    {
     "name": "stdout",
     "output_type": "stream",
     "text": [
      "Audiencias de las tres primeras ediciones del programa Gran Hermano:\n",
      "[(1, 0.37), (1, 0.33), (1, 0.47), (1, 0.46), (1, 0.54), (1, 0.43), (1, 0.59), (1, 0.58), (1, 0.57), (1, 0.49), (1, 0.48), (1, 0.54), (1, 0.55), (1, 0.52), (1, 0.56), (1, 0.71), (2, 0.36), (2, 0.32), (2, 0.37), (2, 0.41), (2, 0.42), (2, 0.4), (2, 0.4), (2, 0.42), (2, 0.42), (2, 0.36), (2, 0.31), (2, 0.47), (2, 0.5), (2, 0.46), (2, 0.49), (2, 0.46), (2, 0.61), (3, 0.39), (3, 0.27), (3, 0.29), (3, 0.31), (3, 0.32), (3, 0.33), (3, 0.36), (3, 0.33), (3, 0.36), (3, 0.31), (3, 0.33), (3, 0.3), (3, 0.35), (3, 0.34), (3, 0.37), (3, 0.39), (3, 0.45)]\n",
      "\n",
      "Audiencias de las ediciones 5 y 6 del programa MasterChef:\n",
      "[(4, 0.155), (4, 0.169), (4, 0.167), (4, 0.178), (4, 0.184), (4, 0.2), (4, 0.188), (4, 0.196), (4, 0.18), (4, 0.22), (4, 0.224), (4, 0.221), (4, 0.284), (5, 0.167), (5, 0.123), (5, 0.163), (5, 0.158), (5, 0.161), (5, 0.18), (5, 0.15), (5, 0.178), (5, 0.16), (5, 0.197), (5, 0.172), (5, 0.206), (5, 0.261)]\n"
     ]
    }
   ],
   "source": [
    "# Test de la función filtra_por_ediciones\n",
    "audiencias_gh_123 = filtra_por_ediciones(audiencias_gh, [1, 2, 3])\n",
    "print(\"Audiencias de las tres primeras ediciones del programa Gran Hermano:\")\n",
    "print(audiencias_gh_123)\n",
    "\n",
    "audiencias_masterchef_45 = filtra_por_ediciones(audiencias_masterchef, [4, 5])\n",
    "print(\"\\nAudiencias de las ediciones 5 y 6 del programa MasterChef:\")\n",
    "print(audiencias_masterchef_45)"
   ]
  },
  {
   "cell_type": "markdown",
   "metadata": {},
   "source": [
    "Para responder a la tercera pregunta, vamos a implementar una función _de transformación_. Con este tipo de funciones construiremos nuevas estructuras de datos a partir de los datos de entrada, que nos darán otras perspectivas de los mismos (aplicando, por ejemplo, algún tipo de función de resumen o agregación). Así, implementaremos la función <code>medias_por_ediciones</code>, que tomará como entrada una lista de tuplas (edición, _share_) y devolverá un diccionario en el que las claves son ediciones y los valores son las medias de _share_ de cada edición.\n",
    "\n",
    "En algunos casos, la operación a realizar puede ser compleja, y conviene usar funciones auxiliares que ayuden a modularizar y estructurar mejor el código. Así que para implementar <code>medias_por_ediciones</code>, vamos a definir una función auxiliar que se encargue de agrupar los datos por ediciones, para luego poder calcular la media. Esta función auxiliar se llama <code>agrupa_por_ediciones</code> y se encarga de obtener un diccionario en el que las claves sean las ediciones, y los valores sean listas de números reales con los datos de _share_ de los programas de esa edición.\n",
    "\n",
    "Las siguientes celdas contienen la implementación y el test, respectivamente, de la función <code>agrupa_por_ediciones</code>:"
   ]
  },
  {
   "cell_type": "code",
   "execution_count": 20,
   "metadata": {},
   "outputs": [
    {
     "name": "stdout",
     "output_type": "stream",
     "text": [
      "Agrupación por ediciones de las audiencias del programa Gran Hermano:\n",
      "{1: [0.37, 0.33, 0.47, 0.46, 0.54, 0.43, 0.59, 0.58, 0.57, 0.49, 0.48, 0.54, 0.55, 0.52, 0.56, 0.71], 2: [0.36, 0.32, 0.37, 0.41, 0.42, 0.4, 0.4, 0.42, 0.42, 0.36, 0.31, 0.47, 0.5, 0.46, 0.49, 0.46, 0.61], 3: [0.39, 0.27, 0.29, 0.31, 0.32, 0.33, 0.36, 0.33, 0.36, 0.31, 0.33, 0.3, 0.35, 0.34, 0.37, 0.39, 0.45], 4: [0.34, 0.24, 0.3, 0.27, 0.26, 0.26, 0.29, 0.28, 0.29, 0.25, 0.31, 0.26, 0.29, 0.34, 0.32, 0.31, 0.39], 5: [0.27, 0.27, 0.29, 0.27, 0.25, 0.24, 0.28, 0.27, 0.26, 0.26, 0.28, 0.27, 0.28, 0.28, 0.23, 0.24, 0.3, 0.36], 6: [0.32, 0.27, 0.3, 0.29, 0.29, 0.28, 0.32, 0.28, 0.3, 0.28, 0.29, 0.28, 0.32, 0.29, 0.29, 0.31, 0.31, 0.34], 7: [0.35, 0.3, 0.28, 0.26, 0.28, 0.25, 0.25, 0.27, 0.25, 0.24, 0.24, 0.25, 0.29, 0.25, 0.29, 0.31, 0.35], 8: [0.31, 0.23, 0.22, 0.22, 0.22, 0.21, 0.2, 0.24, 0.22, 0.23, 0.26, 0.22, 0.26, 0.21, 0.23, 0.24, 0.27], 9: [0.29, 0.31, 0.36, 0.3, 0.25, 0.26, 0.28, 0.25, 0.26, 0.27, 0.27, 0.29, 0.3, 0.26, 0.28, 0.27, 0.31], 10: [0.29, 0.26, 0.28, 0.24, 0.24, 0.3, 0.27, 0.23, 0.27, 0.27, 0.25, 0.24, 0.25, 0.23, 0.26, 0.26, 0.25, 0.24, 0.32], 11: [0.25, 0.21, 0.25, 0.24, 0.25, 0.25, 0.24, 0.24, 0.26, 0.25, 0.23, 0.23, 0.25, 0.26, 0.25, 0.24, 0.19, 0.19, 0.26, 0.25, 0.25, 0.3, 0.25, 0.21, 0.21, 0.22, 0.19, 0.19, 0.19, 0.17, 0.23], 12: [0.23, 0.19, 0.17, 0.19, 0.19, 0.19, 0.17, 0.17, 0.18, 0.19, 0.18, 0.2, 0.15, 0.19, 0.18, 0.19, 0.17, 0.18, 0.18, 0.17, 0.18, 0.22], 13: [0.25, 0.18, 0.18, 0.2, 0.18, 0.19, 0.2, 0.17, 0.19, 0.2, 0.18, 0.18, 0.2, 0.2, 0.21, 0.22, 0.2, 0.18, 0.23, 0.23, 0.22, 0.22, 0.25, 0.21, 0.28, 0.2, 0.2, 0.18, 0.18, 0.2], 14: [0.19, 0.2, 0.18, 0.17, 0.17, 0.17, 0.19, 0.17, 0.19, 0.21, 0.2, 0.2, 0.17, 0.19, 0.19, 0.17, 0.18, 0.18, 0.19, 0.18, 0.21], 15: [0.22, 0.15, 0.18, 0.14, 0.22, 0.23, 0.25, 0.23, 0.22, 0.2, 0.22, 0.2, 0.23, 0.22, 0.23, 0.28], 16: [0.25, 0.24, 0.24, 0.22, 0.25, 0.23, 0.21, 0.23, 0.24, 0.22, 0.24, 0.23, 0.22, 0.23, 0.24, 0.2, 0.25], 17: [0.24, 0.2, 0.19, 0.19, 0.2, 0.19, 0.19, 0.2, 0.22, 0.2, 0.21, 0.19, 0.19, 0.17, 0.18, 0.19]}\n",
      "\n",
      "Agrupación por ediciones de las audiencias del programa MasterChef:\n",
      "{1: [0.11, 0.1, 0.155, 0.186, 0.155, 0.153, 0.177, 0.189, 0.195, 0.216, 0.2, 0.224, 0.331], 2: [0.165, 0.163, 0.164, 0.178, 0.133, 0.176, 0.187, 0.203, 0.207, 0.231, 0.206, 0.216, 0.145, 0.224, 0.271], 3: [0.16, 0.186, 0.171, 0.171, 0.195, 0.175, 0.179, 0.172, 0.19, 0.179, 0.185, 0.187, 0.268], 4: [0.155, 0.169, 0.167, 0.178, 0.184, 0.2, 0.188, 0.196, 0.18, 0.22, 0.224, 0.221, 0.284], 5: [0.167, 0.123, 0.163, 0.158, 0.161, 0.18, 0.15, 0.178, 0.16, 0.197, 0.172, 0.206, 0.261], 6: [0.168, 0.146, 0.144, 0.156, 0.147, 0.168, 0.208, 0.191, 0.198, 0.2, 0.231, 0.224, 0.277], 7: [0.21, 0.166, 0.183, 0.96, 0.141, 0.123, 0.136, 0.139, 0.14, 0.136, 0.149, 0.146, 0.188], 8: [0.2, 0.186, 0.202, 0.218, 0.227, 0.23, 0.229, 0.227, 0.237, 0.246, 0.232, 0.237, 0.303], 9: [0.15, 0.149, 0.15, 0.13, 0.147, 0.159, 0.14, 0.153, 0.15, 0.158, 0.161, 0.109, 0.219], 10: [0.149, 0.142, 0.137, 0.145, 0.147, 0.15, 0.143, 0.134, 0.14, 0.138, 0.142, 0.153, 0.178]}\n"
     ]
    }
   ],
   "source": [
    "def agrupa_por_ediciones(audiencias):\n",
    "    res = dict() # Crea diccionario vacío\n",
    "    # Vamos recorriendo las audiencias\n",
    "    for edicion, share in audiencias:\n",
    "        if edicion in res: # Si la edición ya está en el diccionario\n",
    "            res[edicion].append(share)  # Se añade el share a la lista de shares que ya hay de esa edición\n",
    "        else: # Si la edición no está en el diccionario\n",
    "            res[edicion] = [share]  # Se añade una nueva pareja al diccionario para la edición y una lista con el share\n",
    "    return res\n",
    "\n",
    "d_gh = agrupa_por_ediciones(audiencias_gh)\n",
    "print(\"Agrupación por ediciones de las audiencias del programa Gran Hermano:\")\n",
    "print(d_gh)\n",
    "\n",
    "d_mc = agrupa_por_ediciones(audiencias_masterchef)\n",
    "print(\"\\nAgrupación por ediciones de las audiencias del programa MasterChef:\")\n",
    "print(d_mc)"
   ]
  },
  {
   "cell_type": "markdown",
   "metadata": {},
   "source": [
    "Las siguientes celdas contienen la implementación y el test, respectivamente, de la función <code>medias_por_ediciones</code> :"
   ]
  },
  {
   "cell_type": "code",
   "execution_count": 21,
   "metadata": {},
   "outputs": [],
   "source": [
    "def medias_por_ediciones(audiencias):\n",
    "    ''' Calcula la media de audiencia para cada edición\n",
    "    \n",
    "    ENTRADA: \n",
    "       @param audiencias: lista de audiencias \n",
    "       @type audiencias: [(int, float)]\n",
    "    SALIDA:\n",
    "       @return: medias de audiencia por cada edición\n",
    "       @rtype: {int: float}\n",
    "\n",
    "    Toma como entrada una lista de tuplas (edición, share) y produce como\n",
    "    salida un diccionario en el que las claves son las ediciones y los\n",
    "    valores son las medias de audiencia de cada edición.\n",
    "    '''\n",
    "    medias = dict()\n",
    "    d = agrupa_por_ediciones(audiencias)\n",
    "    for edicion, lista_shares in d.items():\n",
    "        # Usamos la lista de shares para calcular la media\n",
    "        medias[edicion] = sum(lista_shares) / len(lista_shares)\n",
    "    return medias"
   ]
  },
  {
   "cell_type": "code",
   "execution_count": 22,
   "metadata": {},
   "outputs": [
    {
     "name": "stdout",
     "output_type": "stream",
     "text": [
      "Media de audiencias por ediciones del programa Gran Hermano:\n",
      "{1: 0.5118750000000001, 2: 0.4223529411764706, 3: 0.3411764705882353, 4: 0.29411764705882354, 5: 0.2722222222222223, 6: 0.29777777777777775, 7: 0.27705882352941175, 8: 0.23470588235294115, 9: 0.2829411764705882, 10: 0.2605263157894737, 11: 0.2322580645161291, 12: 0.18454545454545457, 13: 0.2036666666666667, 14: 0.18571428571428572, 15: 0.21375000000000005, 16: 0.23176470588235296, 17: 0.196875}\n",
      "\n",
      "Media de audiencias por ediciones del programa MasterChef:\n",
      "{1: 0.1839230769230769, 2: 0.19126666666666672, 3: 0.186, 4: 0.19738461538461538, 5: 0.1750769230769231, 6: 0.1890769230769231, 7: 0.2166923076923077, 8: 0.2287692307692308, 9: 0.1519230769230769, 10: 0.14599999999999996}\n"
     ]
    }
   ],
   "source": [
    "# Test de la función medias_por_ediciones\n",
    "medias_gh = medias_por_ediciones(audiencias_gh)\n",
    "print(\"Media de audiencias por ediciones del programa Gran Hermano:\")\n",
    "print(medias_gh)\n",
    "\n",
    "# Test de la función medias_por_ediciones\n",
    "medias_mc = medias_por_ediciones(audiencias_masterchef)\n",
    "print(\"\\nMedia de audiencias por ediciones del programa MasterChef:\")\n",
    "print(medias_mc)"
   ]
  },
  {
   "cell_type": "markdown",
   "metadata": {},
   "source": [
    "## 3. Funciones de visualización"
   ]
  },
  {
   "cell_type": "markdown",
   "metadata": {},
   "source": [
    "En este último bloque, vamos a responder a preguntas concretas proporcionando resultados gráficos que le permitan al usuario interpretar mejor los resultados del proyecto. En concreto, vamos a responder a las siguientes preguntas:\n",
    "\n",
    "4. ¿Cómo ha ido evolucionando la audiencia del programa en las distintas ediciones a lo largo del tiempo?\n",
    "5. ¿Cuál es la media de _share_ en cada una de las ediciones? (date cuenta de que esta pregunta es la misma que la pregunta 3 del bloque anterior, pero ahora vamos a ver los resultados de forma gráfica)\n",
    "\n",
    "En Python, el paquete más usado para generar gráficas es <code>matplotlib</code>. Es un paquete muy completo y complejo, y su manejo se escapa un poco del alcance de un curso de introducción a la programación. Por esta razón, siempre que lo usemos, en el enunciado de los ejercicios se indicarán exactamente las instrucciones _matplotlib_ necesarias para generar las gráficas, quedando solo como trabajo del ejercicio la construcción de las estructuras de datos que requieren estas instrucciones (casi siempre, estas estructuras serán listas).\n",
    "\n",
    "Para responder a la cuarta pregunta, implementaremos la función de visualización <code>muestra_evolucion_audiencias</code>. Esta función toma como entrada una lista de tuplas (edición, _share_) y genera una gráfica con la evolución de los _shares_ a lo largo del tiempo.\n",
    "\n",
    "Las siguientes celdas contienen la implementación y el test, respectivamente, de esta función. "
   ]
  },
  {
   "cell_type": "code",
   "execution_count": 23,
   "metadata": {},
   "outputs": [],
   "source": [
    "def muestra_evolucion_audiencias(audiencias):\n",
    "    ''' Genera una curva con la evolución de las audiencias\n",
    "    \n",
    "    ENTRADA: \n",
    "       @param audiencias: lista de audiencias\n",
    "       @type audiencias: [(int, float)]\n",
    "    SALIDA EN PANTALLA:\n",
    "       - gráfica con la evolución de los shares a lo largo del tiempo\n",
    "\n",
    "    Toma como entrada una lista de tuplas (edición, share) y muestra una\n",
    "    curva con la evolución de los shares a lo largo del tiempo.\n",
    "    \n",
    "    Para generar la gráfica usaremos elementos del paquete matplotlib. Estas\n",
    "    son las instrucciones que permiten trazar una curva a partir de la lista de\n",
    "    shares:\n",
    "        plt.plot(shares, label='audiencia')\n",
    "        plt.legend()\n",
    "        plt.show()\n",
    "    '''\n",
    "    # Calculamos la lista de shares\n",
    "    shares = [s for _, s in audiencias]\n",
    "    \n",
    "    # Componemos y visualizamos la gráfica\n",
    "    plt.plot(shares, label='audiencia')\n",
    "    plt.legend()\n",
    "    plt.show()"
   ]
  },
  {
   "cell_type": "code",
   "execution_count": 24,
   "metadata": {},
   "outputs": [
    {
     "ename": "NameError",
     "evalue": "name 'plt' is not defined",
     "output_type": "error",
     "traceback": [
      "\u001b[1;31m---------------------------------------------------------------------------\u001b[0m",
      "\u001b[1;31mNameError\u001b[0m                                 Traceback (most recent call last)",
      "Cell \u001b[1;32mIn [24], line 2\u001b[0m\n\u001b[0;32m      1\u001b[0m \u001b[38;5;66;03m# Test de la función muestra_evolucion_audiencias\u001b[39;00m\n\u001b[1;32m----> 2\u001b[0m muestra_evolucion_audiencias(audiencias_gh)\n\u001b[0;32m      4\u001b[0m muestra_evolucion_audiencias(audiencias_masterchef)\n",
      "Cell \u001b[1;32mIn [23], line 24\u001b[0m, in \u001b[0;36mmuestra_evolucion_audiencias\u001b[1;34m(audiencias)\u001b[0m\n\u001b[0;32m     21\u001b[0m shares \u001b[38;5;241m=\u001b[39m [s \u001b[38;5;28;01mfor\u001b[39;00m _, s \u001b[38;5;129;01min\u001b[39;00m audiencias]\n\u001b[0;32m     23\u001b[0m \u001b[38;5;66;03m# Componemos y visualizamos la gráfica\u001b[39;00m\n\u001b[1;32m---> 24\u001b[0m \u001b[43mplt\u001b[49m\u001b[38;5;241m.\u001b[39mplot(shares, label\u001b[38;5;241m=\u001b[39m\u001b[38;5;124m'\u001b[39m\u001b[38;5;124maudiencia\u001b[39m\u001b[38;5;124m'\u001b[39m)\n\u001b[0;32m     25\u001b[0m plt\u001b[38;5;241m.\u001b[39mlegend()\n\u001b[0;32m     26\u001b[0m plt\u001b[38;5;241m.\u001b[39mshow()\n",
      "\u001b[1;31mNameError\u001b[0m: name 'plt' is not defined"
     ]
    }
   ],
   "source": [
    "# Test de la función muestra_evolucion_audiencias\n",
    "muestra_evolucion_audiencias(audiencias_gh)\n",
    "\n",
    "muestra_evolucion_audiencias(audiencias_masterchef)"
   ]
  },
  {
   "cell_type": "markdown",
   "metadata": {},
   "source": [
    "Para responder a la última pregunta implementaremos la función <code>muestra_medias_por_ediciones</code>. Esta función, que también toma como entrada una lista de tuplas (edición, _share_), se apoyará en la función <code>medias_por_ediciones</code> para calcular un diccionario con las medias de _share_ de cada edición. Los valores de este diccionario se mostrarán en un diagrama de barras en el que en el eje _X_ se representarán las ediciones, y la media de los _shares_ se corresponderá con la altura de las barras.\n",
    "\n",
    "Las siguientes celdas contienen la implementación y el test, respectivamente, de esta función."
   ]
  },
  {
   "cell_type": "code",
   "execution_count": null,
   "metadata": {},
   "outputs": [],
   "source": [
    "def muestra_medias_por_ediciones(audiencias):\n",
    "    ''' Genera un diagrama de barras con la media de audiencia de cada edición\n",
    "    \n",
    "    ENTRADA: \n",
    "       @param audiencias: lista de audiencias\n",
    "       @type audiencias: [(int, float)]\n",
    "    SALIDA EN PANTALLA:\n",
    "       - gráfica con las medias por cada edición\n",
    "\n",
    "    Toma como entrada una lista de tuplas (edición, share) y muestra un diagrama\n",
    "    de barras. Habrá una barra por cada edición presente en la lista de audiencias.\n",
    "    Se mostrará la media de shares de cada edición.\n",
    "    \n",
    "    Estas son las instrucciones 'matplotlib' para trazar el diagrama de barras\n",
    "    a partir de una lista de ediciones y otra lista (con el mismo orden) de\n",
    "    medias de shares:\n",
    "        plt.bar(ediciones, lista_medias)\n",
    "        plt.xticks(ediciones, ediciones, fontsize=8)\n",
    "        plt.show()\n",
    "    '''\n",
    "    \n",
    "    # Calculamos las medias por cada edición\n",
    "    dicc_medias = medias_por_ediciones(audiencias)\n",
    "    # Calculamos la lista de ediciones\n",
    "    ediciones = sorted(dicc_medias.keys())\n",
    "    # Generamos una lista de medias con el mismo orden que las ediciones\n",
    "    lista_medias = [dicc_medias[e] for e in ediciones]\n",
    "    # Componemos y visualizamos la gráfica\n",
    "    plt.bar(ediciones, lista_medias)\n",
    "    plt.xticks(ediciones, ediciones, fontsize=8)\n",
    "    plt.show()"
   ]
  },
  {
   "cell_type": "code",
   "execution_count": null,
   "metadata": {},
   "outputs": [],
   "source": [
    "# Test de la función muestra_medias_por_ediciones\n",
    "muestra_medias_por_ediciones(audiencias_gh)\n",
    "\n",
    "muestra_medias_por_ediciones(audiencias_masterchef)"
   ]
  },
  {
   "cell_type": "markdown",
   "metadata": {},
   "source": [
    "## 4. Un par de ejercicios"
   ]
  },
  {
   "cell_type": "markdown",
   "metadata": {},
   "source": [
    "Cerramos este notebook con un par de ejercicios sin implementar. Se trata de dos funciones que calculan _informaciones derivadas_ a partir de los datos de entrada. Son dos funciones simples de pocas LDCs (Líneas De Código) cada una, con tratamientos muy comunes sobre secuencias de datos numéricos. Con una búsqueda simple en _stackoverflow_ se pueden encontrar fragmentos de código que, con pocos cambios, pueden ayudarnos a obtener la solución.\n",
    "\n",
    "La primera de las funciones se llama <code>calcula_estadisticos</code>. Toma como entrada una lista de tuplas (edición, _share_) y calcula diversos estadísticos de la serie de _shares_ (media, mediana, máximo y mínimo). Para nuestros datos de entrada, por ejemplo, podríamos obtener una salida como esta:\n",
    "\n",
    "<pre>\n",
    "        Media:   0.265\n",
    "        Mediana: 0.25\n",
    "        Máximo:  0.71\n",
    "        Mínimo:  0.14\n",
    "</pre>\n",
    "\n",
    "Las siguientes celdas contienen la cabecera y el test, respectivamente, de la función <code>calcula_estadisticos</code> y de la función de apoyo <code>mediana</code>:"
   ]
  },
  {
   "cell_type": "code",
   "execution_count": null,
   "metadata": {},
   "outputs": [],
   "source": [
    "def mediana(lista):\n",
    "    ''' Calcula la mediana de una serie\n",
    "    \n",
    "    ENTRADA: \n",
    "       @param lista: serie de valores numéricos\n",
    "       @type lista: [float]\n",
    "    SALIDA:\n",
    "       @return: mediana de los valores de entrada\n",
    "       @rtype: float\n",
    "    '''\n",
    "    # Ordenamos la lista y calculamos su tamaño\n",
    "   \n",
    "    # La mediana se calcula de forma distinta si el número de elementos es par o impar\n",
    "   \n",
    "    return None\n",
    "\n",
    "def calcula_estadisticos(audiencias):\n",
    "    ''' Calcula la media, mediana, máximo y mínimo de una lista de audiencias\n",
    "    \n",
    "    ENTRADA: \n",
    "       @param audiencias: lista de audiencias\n",
    "       @type audiencias: [(int, float)]\n",
    "    SALIDA:\n",
    "       @return: media, mediana, máximo y mínimo\n",
    "       @rtype: (float, float, float, float)\n",
    "    '''\n",
    "    # Calculamos la lista de shares sobre la que se calcularán los indicadores\n",
    "    \n",
    "    return None\n",
    "\n",
    "    # Una solución más compacta haciendo uso del módulo statistics de la librería estándar\n",
    "    #return (statistics.mean(shares), statistics.median(shares), max(shares), min(shares))"
   ]
  },
  {
   "cell_type": "code",
   "execution_count": null,
   "metadata": {},
   "outputs": [],
   "source": [
    "# Test de la función calcula_estadisticos\n",
    "media_gh, mediana_gh, maximo_gh, minimo_gh = calcula_estadisticos(audiencias_gh)\n",
    "print(\"Estadísticos del programa Gran Hermano:\")\n",
    "print('Media: ', media_gh)\n",
    "print('Mediana:', mediana_gh)\n",
    "print('Máximo:', maximo_gh)\n",
    "print('Mínimo:', minimo_gh)\n",
    "\n",
    "# Test de la función calcula_estadisticos\n",
    "media_mc, mediana_mc, maximo_mc, minimo_mc = calcula_estadisticos(audiencias_masterchef)\n",
    "print(\"\\nEstadísticos del programa MasterChef:\")\n",
    "print('Media: ', media_mc)\n",
    "print('Mediana:', mediana_mc)\n",
    "print('Máximo:', maximo_mc)\n",
    "print('Mínimo:', minimo_mc)"
   ]
  },
  {
   "cell_type": "markdown",
   "metadata": {},
   "source": [
    "La segunda función se llama <code>lista_medias_shares</code>. Toma como entrada una lista de tuplas (edición, _share_) y produce como salida una lista de tuplas (_media-shares_, edición) ordenada de mayor a menor por la media de _shares_. Esta función hace uso de la función <code>medias_por_ediciones</code> para calcular la media de _share_ de cada edición. Para nuestros datos de entrada, por ejemplo, podríamos obtener una salida como esta:\n",
    "\n",
    "<pre>\n",
    "        1 ->  0.512\n",
    "        2 ->  0.422\n",
    "        3 ->  0.341\n",
    "        6 ->  0.298\n",
    "        4 ->  0.294\n",
    "        9 ->  0.283\n",
    "        7 ->  0.277\n",
    "        5 ->  0.272\n",
    "       10 ->  0.261\n",
    "        8 ->  0.235\n",
    "       11 ->  0.232\n",
    "       16 ->  0.232\n",
    "       15 ->  0.214\n",
    "       13 ->  0.204\n",
    "       17 ->  0.197\n",
    "       14 ->  0.186\n",
    "       12 ->  0.185\n",
    "</pre>\n",
    "\n",
    "\n",
    "Las siguientes celdas contienen la cabecera y el test, respectivamente, de la función <code>lista_medias_shares</code>:"
   ]
  },
  {
   "cell_type": "code",
   "execution_count": null,
   "metadata": {},
   "outputs": [],
   "source": [
    "def lista_medias_shares(audiencias):\n",
    "    ''' Calcula una lista ordenada de ediciones según su media de shares\n",
    "    \n",
    "    ENTRADA: \n",
    "       @param audiencias: lista de audiencias \n",
    "       @type audiencias: [(int, float)]\n",
    "    SALIDA:\n",
    "       @return: pares (medias de audiencia, edición) ordenados de mayor a menor media\n",
    "       @rtype: [(float, int)]\n",
    "    '''\n",
    "    # Convertimos el diccionario en una lista de tuplas\n",
    "    \n",
    "    # Ordenamos la lista por el primer componente (audiencias) y de mayor a menor (reverse=True)\n",
    "    return None"
   ]
  },
  {
   "cell_type": "code",
   "execution_count": null,
   "metadata": {},
   "outputs": [],
   "source": [
    "# Test de la función lista_medias_shares\n",
    "shares_eds = lista_medias_shares(audiencias_gh)\n",
    "for s, e in shares_eds:\n",
    "    print(\"{:3d} -> {:6.3f}\".format(e, s))"
   ]
  }
 ],
 "metadata": {
  "kernelspec": {
   "display_name": "Python 3.10.7 64-bit (microsoft store)",
   "language": "python",
   "name": "python3"
  },
  "language_info": {
   "codemirror_mode": {
    "name": "ipython",
    "version": 3
   },
   "file_extension": ".py",
   "mimetype": "text/x-python",
   "name": "python",
   "nbconvert_exporter": "python",
   "pygments_lexer": "ipython3",
   "version": "3.10.7"
  },
  "vscode": {
   "interpreter": {
    "hash": "d3f0d207b648d1175a3b2bbb912118d4848417bdf0b1a5227ab0916c63215186"
   }
  }
 },
 "nbformat": 4,
 "nbformat_minor": 2
}
